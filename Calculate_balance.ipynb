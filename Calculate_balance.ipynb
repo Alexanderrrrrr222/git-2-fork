{
  "nbformat": 4,
  "nbformat_minor": 0,
  "metadata": {
    "colab": {
      "provenance": [],
      "include_colab_link": true
    },
    "kernelspec": {
      "name": "python3",
      "display_name": "Python 3"
    },
    "language_info": {
      "name": "python"
    }
  },
  "cells": [
    {
      "cell_type": "markdown",
      "metadata": {
        "id": "view-in-github",
        "colab_type": "text"
      },
      "source": [
        "<a href=\"https://colab.research.google.com/github/Alexanderrrrrr222/git-2-fork/blob/main/Calculate_balance.ipynb\" target=\"_parent\"><img src=\"https://colab.research.google.com/assets/colab-badge.svg\" alt=\"Open In Colab\"/></a>"
      ]
    },
    {
      "cell_type": "markdown",
      "source": [
        "**КОД РАССЧЁТА ПОПОЛНЕНИЯ БАЛАНСА В USDT**"
      ],
      "metadata": {
        "id": "xtiC9sk5ExAy"
      }
    },
    {
      "cell_type": "code",
      "source": [
        "import requests\n",
        "import time\n",
        "import datetime\n",
        "\n",
        "api_key = '7a65bfa6-750b-4490-be79-b47a31c235a9'\n",
        "endpoint = 'https://apilist.tronscanapi.com/api/transaction-info'\n",
        "\n",
        "transaction_hash = input('Введите значение HASH транзакции: ')\n",
        "\n",
        "headers = {\n",
        "    'TRON-PRO-API-KEY': api_key\n",
        "}\n",
        "\n",
        "params = {\n",
        "    'hash': transaction_hash\n",
        "}\n",
        "\n",
        "response = requests.get(endpoint, headers=headers, params=params)\n",
        "\n",
        "if response.status_code == 200:\n",
        "    data = response.json()\n",
        "\n",
        "    if 'trc20TransferInfo' in data:\n",
        "        trc20_info = data['trc20TransferInfo']\n",
        "        if trc20_info:\n",
        "            amount_str = trc20_info[0].get('amount_str')\n",
        "            to_address = trc20_info[0].get('to_address')\n",
        "            timestamp = data.get('timestamp')\n",
        "\n",
        "            #print('Сумма в блокчейне:', amount_str)\n",
        "            #print('Получатель средств:', to_address)\n",
        "\n",
        "            if to_address != 'TM4GjqKvoneHmvMYoLVjRXMdUQo5nCe55x':\n",
        "                print('⚠️⚠️⚠️ Внимание: Адрес получателя отличается от TM4GjqKvoneHmvMYoLVjRXMdUQo5nCe55x ⚠️⚠️⚠️')\n",
        "            else:\n",
        "                print('✅ Перевод выполнен на актуальный кошелёк TM4GjqKvoneHmvMYoLVjRXMdUQo5nCe55x ✅')\n",
        "\n",
        "            if 'confirmed' in data and 'timestamp' in data:\n",
        "                confirmed_value = data['confirmed']\n",
        "\n",
        "\n",
        "                if confirmed_value == True:\n",
        "                    print('✅ Перевод выполнен успешно ✅')\n",
        "\n",
        "                    transaction_time = datetime.datetime.fromtimestamp(int(timestamp) / 1000.0)\n",
        "\n",
        "                    current_time = datetime.datetime.now()\n",
        "\n",
        "                    if current_time - transaction_time > datetime.timedelta(hours=1):\n",
        "                        print('⚠️⚠️⚠️ Этот перевод старше одного часа. Возможно дублирование HASH от партнёра ⚠️⚠️⚠️')\n",
        "\n",
        "                    num_amount = float(amount_str[:-6] + '.' + amount_str[-6:])\n",
        "\n",
        "                    tariff_percent = float(input('Введите процент по тарифу: '))\n",
        "\n",
        "                    total = num_amount\n",
        "                    total = round(total, 2)\n",
        "\n",
        "                    total2 = total + (total * tariff_percent / 100)\n",
        "                    total2 = round(total2, 2)\n",
        "\n",
        "                    if total2.is_integer():\n",
        "                        total2 = int(total2)\n",
        "\n",
        "                    print(f\"{num_amount} = {total} + {tariff_percent}% = {total2 if isinstance(total2, int) else total2:.2f}\")\n",
        "\n",
        "                else:\n",
        "                    print('❌ Информация о подтверждении перевода отсутствует в ответе API ❌')\n",
        "\n",
        "    else:\n",
        "        print('❌ Информация о переводе TRC20 отсутствует в ответе API ❌')\n",
        "\n",
        "else:\n",
        "    print('❌ Ошибка, возможно не доступен API:', response.status_code)"
      ],
      "metadata": {
        "colab": {
          "base_uri": "https://localhost:8080/",
          "height": 426
        },
        "id": "uUUIgMGhV6p9",
        "outputId": "672c0b27-5345-48ce-97d0-066975346ed3"
      },
      "execution_count": 66,
      "outputs": [
        {
          "output_type": "stream",
          "name": "stdout",
          "text": [
            "Введите значение HASH транзакции: aab44dace36a453cbfbd80a5344baecb33d10e8d6aaa8e0548b7764d06ea1afd\n",
            "⚠️⚠️⚠️ Внимание: Адрес получателя отличается от TM4GjqKvoneHmvMYoLVjRXMdUQo5nCe55x ⚠️⚠️⚠️\n",
            "✅ Перевод выполнен успешно ✅\n",
            "⚠️⚠️⚠️ Этот перевод старше одного часа. Возможно дублирование HASH от партнёра ⚠️⚠️⚠️\n"
          ]
        },
        {
          "output_type": "error",
          "ename": "KeyboardInterrupt",
          "evalue": "Interrupted by user",
          "traceback": [
            "\u001b[0;31m---------------------------------------------------------------------------\u001b[0m",
            "\u001b[0;31mKeyboardInterrupt\u001b[0m                         Traceback (most recent call last)",
            "\u001b[0;32m<ipython-input-66-0922e711dbec>\u001b[0m in \u001b[0;36m<cell line: 20>\u001b[0;34m()\u001b[0m\n\u001b[1;32m     52\u001b[0m                     \u001b[0mnum_amount\u001b[0m \u001b[0;34m=\u001b[0m \u001b[0mfloat\u001b[0m\u001b[0;34m(\u001b[0m\u001b[0mamount_str\u001b[0m\u001b[0;34m[\u001b[0m\u001b[0;34m:\u001b[0m\u001b[0;34m-\u001b[0m\u001b[0;36m6\u001b[0m\u001b[0;34m]\u001b[0m \u001b[0;34m+\u001b[0m \u001b[0;34m'.'\u001b[0m \u001b[0;34m+\u001b[0m \u001b[0mamount_str\u001b[0m\u001b[0;34m[\u001b[0m\u001b[0;34m-\u001b[0m\u001b[0;36m6\u001b[0m\u001b[0;34m:\u001b[0m\u001b[0;34m]\u001b[0m\u001b[0;34m)\u001b[0m\u001b[0;34m\u001b[0m\u001b[0;34m\u001b[0m\u001b[0m\n\u001b[1;32m     53\u001b[0m \u001b[0;34m\u001b[0m\u001b[0m\n\u001b[0;32m---> 54\u001b[0;31m                     \u001b[0mtariff_percent\u001b[0m \u001b[0;34m=\u001b[0m \u001b[0mfloat\u001b[0m\u001b[0;34m(\u001b[0m\u001b[0minput\u001b[0m\u001b[0;34m(\u001b[0m\u001b[0;34m'Введите процент по тарифу: '\u001b[0m\u001b[0;34m)\u001b[0m\u001b[0;34m)\u001b[0m\u001b[0;34m\u001b[0m\u001b[0;34m\u001b[0m\u001b[0m\n\u001b[0m\u001b[1;32m     55\u001b[0m \u001b[0;34m\u001b[0m\u001b[0m\n\u001b[1;32m     56\u001b[0m                     \u001b[0mtotal\u001b[0m \u001b[0;34m=\u001b[0m \u001b[0mnum_amount\u001b[0m\u001b[0;34m\u001b[0m\u001b[0;34m\u001b[0m\u001b[0m\n",
            "\u001b[0;32m/usr/local/lib/python3.10/dist-packages/ipykernel/kernelbase.py\u001b[0m in \u001b[0;36mraw_input\u001b[0;34m(self, prompt)\u001b[0m\n\u001b[1;32m    849\u001b[0m                 \u001b[0;34m\"raw_input was called, but this frontend does not support input requests.\"\u001b[0m\u001b[0;34m\u001b[0m\u001b[0;34m\u001b[0m\u001b[0m\n\u001b[1;32m    850\u001b[0m             )\n\u001b[0;32m--> 851\u001b[0;31m         return self._input_request(str(prompt),\n\u001b[0m\u001b[1;32m    852\u001b[0m             \u001b[0mself\u001b[0m\u001b[0;34m.\u001b[0m\u001b[0m_parent_ident\u001b[0m\u001b[0;34m,\u001b[0m\u001b[0;34m\u001b[0m\u001b[0;34m\u001b[0m\u001b[0m\n\u001b[1;32m    853\u001b[0m             \u001b[0mself\u001b[0m\u001b[0;34m.\u001b[0m\u001b[0m_parent_header\u001b[0m\u001b[0;34m,\u001b[0m\u001b[0;34m\u001b[0m\u001b[0;34m\u001b[0m\u001b[0m\n",
            "\u001b[0;32m/usr/local/lib/python3.10/dist-packages/ipykernel/kernelbase.py\u001b[0m in \u001b[0;36m_input_request\u001b[0;34m(self, prompt, ident, parent, password)\u001b[0m\n\u001b[1;32m    893\u001b[0m             \u001b[0;32mexcept\u001b[0m \u001b[0mKeyboardInterrupt\u001b[0m\u001b[0;34m:\u001b[0m\u001b[0;34m\u001b[0m\u001b[0;34m\u001b[0m\u001b[0m\n\u001b[1;32m    894\u001b[0m                 \u001b[0;31m# re-raise KeyboardInterrupt, to truncate traceback\u001b[0m\u001b[0;34m\u001b[0m\u001b[0;34m\u001b[0m\u001b[0m\n\u001b[0;32m--> 895\u001b[0;31m                 \u001b[0;32mraise\u001b[0m \u001b[0mKeyboardInterrupt\u001b[0m\u001b[0;34m(\u001b[0m\u001b[0;34m\"Interrupted by user\"\u001b[0m\u001b[0;34m)\u001b[0m \u001b[0;32mfrom\u001b[0m \u001b[0;32mNone\u001b[0m\u001b[0;34m\u001b[0m\u001b[0;34m\u001b[0m\u001b[0m\n\u001b[0m\u001b[1;32m    896\u001b[0m             \u001b[0;32mexcept\u001b[0m \u001b[0mException\u001b[0m \u001b[0;32mas\u001b[0m \u001b[0me\u001b[0m\u001b[0;34m:\u001b[0m\u001b[0;34m\u001b[0m\u001b[0;34m\u001b[0m\u001b[0m\n\u001b[1;32m    897\u001b[0m                 \u001b[0mself\u001b[0m\u001b[0;34m.\u001b[0m\u001b[0mlog\u001b[0m\u001b[0;34m.\u001b[0m\u001b[0mwarning\u001b[0m\u001b[0;34m(\u001b[0m\u001b[0;34m\"Invalid Message:\"\u001b[0m\u001b[0;34m,\u001b[0m \u001b[0mexc_info\u001b[0m\u001b[0;34m=\u001b[0m\u001b[0;32mTrue\u001b[0m\u001b[0;34m)\u001b[0m\u001b[0;34m\u001b[0m\u001b[0;34m\u001b[0m\u001b[0m\n",
            "\u001b[0;31mKeyboardInterrupt\u001b[0m: Interrupted by user"
          ]
        }
      ]
    },
    {
      "cell_type": "markdown",
      "source": [
        "**КОД РАССЧЁТА ПОПОЛНЕНИЯ РУБЛЁВОГО БАЛАНСА**"
      ],
      "metadata": {
        "id": "FCU0w-jSEdBf"
      }
    },
    {
      "cell_type": "code",
      "source": [
        "import requests\n",
        "import time\n",
        "import datetime\n",
        "\n",
        "api_key = '7a65bfa6-750b-4490-be79-b47a31c235a9'\n",
        "endpoint = 'https://apilist.tronscanapi.com/api/transaction-info'\n",
        "\n",
        "transaction_hash = input('Введите значение HASH транзакции: ')\n",
        "\n",
        "headers = {\n",
        "    'TRON-PRO-API-KEY': api_key\n",
        "}\n",
        "\n",
        "params = {\n",
        "    'hash': transaction_hash\n",
        "}\n",
        "\n",
        "response = requests.get(endpoint, headers=headers, params=params)\n",
        "\n",
        "if response.status_code == 200:\n",
        "    data = response.json()\n",
        "\n",
        "    if 'trc20TransferInfo' in data:\n",
        "        trc20_info = data['trc20TransferInfo']\n",
        "        if trc20_info:\n",
        "            amount_str = trc20_info[0].get('amount_str')\n",
        "            to_address = trc20_info[0].get('to_address')\n",
        "            timestamp = data.get('timestamp')\n",
        "\n",
        "            #print('Сумма в блокчейне:', amount_str)\n",
        "            #print('Получатель средств:', to_address)\n",
        "\n",
        "            if to_address != 'TM4GjqKvoneHmvMYoLVjRXMdUQo5nCe55x':\n",
        "                print('⚠️⚠️⚠️ Внимание: Адрес получателя отличается от TM4GjqKvoneHmvMYoLVjRXMdUQo5nCe55x ⚠️⚠️⚠️')\n",
        "            else:\n",
        "                print('✅ Перевод выполнен на актуальный кошелёк TM4GjqKvoneHmvMYoLVjRXMdUQo5nCe55x ✅')\n",
        "\n",
        "            if 'confirmed' in data and 'timestamp' in data:\n",
        "                confirmed_value = data['confirmed']\n",
        "                #print('Значение confirmed:', confirmed_value)\n",
        "\n",
        "                if confirmed_value == True:\n",
        "                    print('✅ Перевод выполнен успешно ✅')\n",
        "\n",
        "                    transaction_time = datetime.datetime.fromtimestamp(int(timestamp) / 1000.0)\n",
        "\n",
        "                    current_time = datetime.datetime.now()\n",
        "\n",
        "                    if current_time - transaction_time > datetime.timedelta(hours=1):\n",
        "                        print('⚠️⚠️⚠️ Этот перевод старше одного часа. Возможно дублирование HASH от партнёра ⚠️⚠️⚠️')\n",
        "\n",
        "                    num_amount = float(amount_str[:-6] + '.' + amount_str[-6:])\n",
        "\n",
        "                    exchange_rate_input = input('Введите курс для расчета суммы: ')\n",
        "\n",
        "                    tariff_percent = float(input('Введите процент по тарифу: '))\n",
        "\n",
        "                    total = num_amount * exchange_rate\n",
        "                    total = round(total, 2)\n",
        "\n",
        "                    total2 = total + (total * tariff_percent / 100)\n",
        "                    total2 = round(total2, 2)\n",
        "\n",
        "                    if total2.is_integer():\n",
        "                        total2 = int(total2)\n",
        "\n",
        "                    print(f\"{num_amount} * {exchange_rate} = {total} + {tariff_percent}% = {total2 if isinstance(total2, int) else total2:.2f}\")\n",
        "\n",
        "            else:\n",
        "                print('❌ Информация о подтверждении перевода отсутствует в ответе API ❌')\n",
        "\n",
        "    else:\n",
        "        print('❌ Информация о переводе TRC20 отсутствует в ответе API ❌')\n",
        "\n",
        "else:\n",
        "    print('❌ Ошибка, возможно не доступен API: ❌', response.status_code)"
      ],
      "metadata": {
        "colab": {
          "base_uri": "https://localhost:8080/",
          "height": 356
        },
        "id": "U8aT5CJtw5Yk",
        "outputId": "2b94016e-c171-4385-ea3f-7ce14cc0d9ad"
      },
      "execution_count": 64,
      "outputs": [
        {
          "output_type": "error",
          "ename": "KeyboardInterrupt",
          "evalue": "Interrupted by user",
          "traceback": [
            "\u001b[0;31m---------------------------------------------------------------------------\u001b[0m",
            "\u001b[0;31mKeyboardInterrupt\u001b[0m                         Traceback (most recent call last)",
            "\u001b[0;32m<ipython-input-64-e10d365637d1>\u001b[0m in \u001b[0;36m<cell line: 8>\u001b[0;34m()\u001b[0m\n\u001b[1;32m      6\u001b[0m \u001b[0mendpoint\u001b[0m \u001b[0;34m=\u001b[0m \u001b[0;34m'https://apilist.tronscanapi.com/api/transaction-info'\u001b[0m\u001b[0;34m\u001b[0m\u001b[0;34m\u001b[0m\u001b[0m\n\u001b[1;32m      7\u001b[0m \u001b[0;34m\u001b[0m\u001b[0m\n\u001b[0;32m----> 8\u001b[0;31m \u001b[0mtransaction_hash\u001b[0m \u001b[0;34m=\u001b[0m \u001b[0minput\u001b[0m\u001b[0;34m(\u001b[0m\u001b[0;34m'Введите значение HASH транзакции: '\u001b[0m\u001b[0;34m)\u001b[0m\u001b[0;34m\u001b[0m\u001b[0;34m\u001b[0m\u001b[0m\n\u001b[0m\u001b[1;32m      9\u001b[0m \u001b[0;34m\u001b[0m\u001b[0m\n\u001b[1;32m     10\u001b[0m headers = {\n",
            "\u001b[0;32m/usr/local/lib/python3.10/dist-packages/ipykernel/kernelbase.py\u001b[0m in \u001b[0;36mraw_input\u001b[0;34m(self, prompt)\u001b[0m\n\u001b[1;32m    849\u001b[0m                 \u001b[0;34m\"raw_input was called, but this frontend does not support input requests.\"\u001b[0m\u001b[0;34m\u001b[0m\u001b[0;34m\u001b[0m\u001b[0m\n\u001b[1;32m    850\u001b[0m             )\n\u001b[0;32m--> 851\u001b[0;31m         return self._input_request(str(prompt),\n\u001b[0m\u001b[1;32m    852\u001b[0m             \u001b[0mself\u001b[0m\u001b[0;34m.\u001b[0m\u001b[0m_parent_ident\u001b[0m\u001b[0;34m,\u001b[0m\u001b[0;34m\u001b[0m\u001b[0;34m\u001b[0m\u001b[0m\n\u001b[1;32m    853\u001b[0m             \u001b[0mself\u001b[0m\u001b[0;34m.\u001b[0m\u001b[0m_parent_header\u001b[0m\u001b[0;34m,\u001b[0m\u001b[0;34m\u001b[0m\u001b[0;34m\u001b[0m\u001b[0m\n",
            "\u001b[0;32m/usr/local/lib/python3.10/dist-packages/ipykernel/kernelbase.py\u001b[0m in \u001b[0;36m_input_request\u001b[0;34m(self, prompt, ident, parent, password)\u001b[0m\n\u001b[1;32m    893\u001b[0m             \u001b[0;32mexcept\u001b[0m \u001b[0mKeyboardInterrupt\u001b[0m\u001b[0;34m:\u001b[0m\u001b[0;34m\u001b[0m\u001b[0;34m\u001b[0m\u001b[0m\n\u001b[1;32m    894\u001b[0m                 \u001b[0;31m# re-raise KeyboardInterrupt, to truncate traceback\u001b[0m\u001b[0;34m\u001b[0m\u001b[0;34m\u001b[0m\u001b[0m\n\u001b[0;32m--> 895\u001b[0;31m                 \u001b[0;32mraise\u001b[0m \u001b[0mKeyboardInterrupt\u001b[0m\u001b[0;34m(\u001b[0m\u001b[0;34m\"Interrupted by user\"\u001b[0m\u001b[0;34m)\u001b[0m \u001b[0;32mfrom\u001b[0m \u001b[0;32mNone\u001b[0m\u001b[0;34m\u001b[0m\u001b[0;34m\u001b[0m\u001b[0m\n\u001b[0m\u001b[1;32m    896\u001b[0m             \u001b[0;32mexcept\u001b[0m \u001b[0mException\u001b[0m \u001b[0;32mas\u001b[0m \u001b[0me\u001b[0m\u001b[0;34m:\u001b[0m\u001b[0;34m\u001b[0m\u001b[0;34m\u001b[0m\u001b[0m\n\u001b[1;32m    897\u001b[0m                 \u001b[0mself\u001b[0m\u001b[0;34m.\u001b[0m\u001b[0mlog\u001b[0m\u001b[0;34m.\u001b[0m\u001b[0mwarning\u001b[0m\u001b[0;34m(\u001b[0m\u001b[0;34m\"Invalid Message:\"\u001b[0m\u001b[0;34m,\u001b[0m \u001b[0mexc_info\u001b[0m\u001b[0;34m=\u001b[0m\u001b[0;32mTrue\u001b[0m\u001b[0;34m)\u001b[0m\u001b[0;34m\u001b[0m\u001b[0;34m\u001b[0m\u001b[0m\n",
            "\u001b[0;31mKeyboardInterrupt\u001b[0m: Interrupted by user"
          ]
        }
      ]
    },
    {
      "cell_type": "markdown",
      "source": [
        "**ЧЕРНОВИК. ТЕСТЫ КОДА !!!!!**"
      ],
      "metadata": {
        "id": "3YDP0iXSRaKS"
      }
    },
    {
      "cell_type": "code",
      "source": [
        "import requests\n",
        "import time\n",
        "import datetime\n",
        "\n",
        "api_key = '7a65bfa6-750b-4490-be79-b47a31c235a9'\n",
        "endpoint = 'https://apilist.tronscanapi.com/api/transaction-info'\n",
        "\n",
        "transaction_hash = input('Введите значение HASH транзакции: ')\n",
        "\n",
        "headers = {\n",
        "    'TRON-PRO-API-KEY': api_key\n",
        "}\n",
        "\n",
        "params = {\n",
        "    'hash': transaction_hash\n",
        "}\n",
        "\n",
        "response = requests.get(endpoint, headers=headers, params=params)\n",
        "\n",
        "if response.status_code == 200:\n",
        "    data = response.json()\n",
        "\n",
        "    if 'trc20TransferInfo' in data:\n",
        "        trc20_info = data['trc20TransferInfo']\n",
        "        if trc20_info:\n",
        "            amount_str = trc20_info[0].get('amount_str')\n",
        "            to_address = trc20_info[0].get('to_address')\n",
        "            timestamp = data.get('timestamp')\n",
        "\n",
        "            #print('Сумма в блокчейне:', amount_str)\n",
        "            #print('Получатель средств:', to_address)\n",
        "\n",
        "            if to_address != 'TM4GjqKvoneHmvMYoLVjRXMdUQo5nCe55x':\n",
        "                print('⚠️⚠️⚠️ Внимание: Адрес получателя отличается от TM4GjqKvoneHmvMYoLVjRXMdUQo5nCe55x ⚠️⚠️⚠️')\n",
        "            else:\n",
        "                print('✅ Перевод выполнен на актуальный кошелёк TM4GjqKvoneHmvMYoLVjRXMdUQo5nCe55x ✅')\n",
        "\n",
        "            if 'confirmed' in data and 'timestamp' in data:\n",
        "                confirmed_value = data['confirmed']\n",
        "                print('Значение confirmed:', confirmed_value)\n",
        "\n",
        "                if confirmed_value == True:\n",
        "                    print('✅ Перевод выполнен успешно ✅')\n",
        "\n",
        "                    transaction_time = datetime.datetime.fromtimestamp(int(timestamp) / 1000.0)\n",
        "\n",
        "                    current_time = datetime.datetime.now()\n",
        "\n",
        "                    if current_time - transaction_time > datetime.timedelta(hours=1):\n",
        "                        print('⚠️⚠️⚠️ Этот перевод старше одного часа. Возможно дублирование HASH от партнёра ⚠️⚠️⚠️')\n",
        "\n",
        "                    num_amount = float(amount_str[:-6] + '.' + amount_str[-6:])\n",
        "\n",
        "                    tariff_percent = float(input('Введите процент по тарифу: '))\n",
        "\n",
        "                    total = num_amount\n",
        "                    total = round(total, 2)\n",
        "\n",
        "                    total2 = total + (total * tariff_percent / 100)\n",
        "                    total2 = round(total2, 2)\n",
        "\n",
        "                    if total2.is_integer():\n",
        "                        total2 = int(total2)\n",
        "\n",
        "                    print(f\"{num_amount} = {total} + {tariff_percent}% = {total2 if isinstance(total2, int) else total2:.2f}\")\n",
        "\n",
        "                else:\n",
        "                    print('❌ Информация о подтверждении перевода отсутствует в ответе API ❌')\n",
        "\n",
        "    else:\n",
        "        print('❌ Информация о переводе TRC20 отсутствует в ответе API ❌')\n",
        "\n",
        "else:\n",
        "    print('❌ Ошибка:', response.status_code)"
      ],
      "metadata": {
        "colab": {
          "base_uri": "https://localhost:8080/"
        },
        "id": "GmTrvv1MJ6uk",
        "outputId": "7bb74883-73d3-42d8-c8c6-6f52d7b522b8"
      },
      "execution_count": null,
      "outputs": [
        {
          "output_type": "stream",
          "name": "stdout",
          "text": [
            "Введите значение HASH транзакции: d4fb5e1ecf4b13ddff3b6a1695bdd60de5168953974b245d0831f5c84aac224a\n",
            "✅ Перевод выполнен на актуальный кошелёк TM4GjqKvoneHmvMYoLVjRXMdUQo5nCe55x ✅\n",
            "Значение confirmed: True\n",
            "✅ Перевод выполнен успешно ✅\n",
            "⚠️⚠️⚠️ Этот перевод старше одного часа. Возможно дублирование HASH от партнёра ⚠️⚠️⚠️\n",
            "Введите процент по тарифу: 2\n",
            "913.0808 = 913.08 + 2.0% = 931.34\n"
          ]
        }
      ]
    }
  ]
}